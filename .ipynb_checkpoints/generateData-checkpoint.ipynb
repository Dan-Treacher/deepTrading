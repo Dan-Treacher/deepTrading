{
 "cells": [
  {
   "cell_type": "markdown",
   "metadata": {},
   "source": [
    "## This script will (hopefully) generate 2D training data from stock prices for a CNN"
   ]
  },
  {
   "cell_type": "markdown",
   "metadata": {},
   "source": [
    "### Import necessary libraries"
   ]
  },
  {
   "cell_type": "code",
   "execution_count": 1,
   "metadata": {},
   "outputs": [],
   "source": [
    "import numpy as np\n",
    "import matplotlib.pyplot as plt\n",
    "from sklearn.preprocessing import MinMaxScaler\n",
    "import alpaca_trade_api as tradeapi\n",
    "import pandas as pd\n",
    "import time\n",
    "#import Image\n",
    "\n",
    "# Set defaults for plotting\n",
    "from IPython import display\n",
    "%matplotlib inline\n",
    "plt.rcParams['font.size'] = 15\n",
    "plt.rcParams['figure.figsize'] = (7, 5)\n",
    "\n",
    "import warnings\n",
    "warnings.simplefilter('ignore')\n",
    "#warnings.filterwarnings(action='once') # 'ignore'"
   ]
  },
  {
   "cell_type": "markdown",
   "metadata": {},
   "source": [
    "### Define constants"
   ]
  },
  {
   "cell_type": "code",
   "execution_count": 2,
   "metadata": {},
   "outputs": [],
   "source": [
    "key_dir = 'C:\\\\Users\\\\Dan\\\\Documents\\\\Python Scripts\\\\apiKeys\\\\'\n",
    "apiKey = open(key_dir + 'alpaca_apiKey.txt', 'r').read()\n",
    "secretKey = open(key_dir + 'alpaca_secretKey.txt', 'r').read()\n",
    "endPoint = 'https://paper-api.alpaca.markets'  # Specify this for demo account\n",
    "\n",
    "# Define the companies you want the data for\n",
    "tickers = ['AXP', 'AAPL', 'BA', 'CAT', 'CVX', 'CSCO', 'DIS', 'DOW', 'XOM',\n",
    "           'HD', 'IBM', 'INTC', 'JNJ', 'KO', 'MCD', 'MMM', 'MRK', 'MSFT',\n",
    "           'NKE', 'PFE', 'PG', 'TRV', 'UTX', 'UNH', 'VZ', 'V', 'WMT', 'WBA']\n",
    "\n",
    "# Define dates and time window\n",
    "startDate = '2019-05-01'\n",
    "endDate = '2020-05-28'\n",
    "timeWindow = 20  # Number of time periods that will comprise the gramian angular field\n",
    "timeIncrement = 'day'\n",
    "\n",
    "# Connect to the API and pull the data\n",
    "api = tradeapi.REST(apiKey, secretKey, endPoint, api_version='v2')"
   ]
  },
  {
   "cell_type": "markdown",
   "metadata": {},
   "source": [
    "### Interface with the brokerage"
   ]
  },
  {
   "cell_type": "code",
   "execution_count": 3,
   "metadata": {},
   "outputs": [
    {
     "name": "stdout",
     "output_type": "stream",
     "text": [
      "Pulling ohlcv data for AAPL\n",
      "Pulling ohlcv data for MSFT\n"
     ]
    }
   ],
   "source": [
    "# Define the dictionary that will hold all the data for all the companies\n",
    "ohlcv = {}\n",
    "for ticker in tickers:\n",
    "    try:\n",
    "        # Pull the stock details for that ticker\n",
    "        ohlcv[ticker] = api.get_aggs(ticker, 1, timeIncrement, startDate, endDate).df\n",
    "        # Calculate their daily return\n",
    "        ohlcv[ticker]['daily return'] = ohlcv[ticker]['close'].pct_change()\n",
    "        print('Pulling ohlcv data for {:s}'.format(ticker))\n",
    "    except:\n",
    "        # If nothing is found, throw error and continue\n",
    "        print('Error encountered pulling ohlcv data for {:s}'.format(ticker))"
   ]
  },
  {
   "cell_type": "markdown",
   "metadata": {},
   "source": [
    "### Loop over the data and for each time window extract a gramian angular field"
   ]
  },
  {
   "cell_type": "code",
   "execution_count": 6,
   "metadata": {},
   "outputs": [
    {
     "name": "stdout",
     "output_type": "stream",
     "text": [
      "Buy signal for AAPL. i = 249/2500\n",
      "\n",
      "Buy signal for MSFT. i = 249/2500\n",
      "\n"
     ]
    }
   ],
   "source": [
    "# 1 for save data, 0 for no saving, only plotting for inspection\n",
    "saveToFile = 1\n",
    "\n",
    "for ticker in tickers:\n",
    "\n",
    "    for i in range(len(ohlcv[ticker]) - 1 - timeWindow - 1):\n",
    "        \n",
    "        # Calculate the gramian angular field here\n",
    "        scaler = MinMaxScaler(feature_range=(-1,1))\n",
    "        scaler.fit(ohlcv[ticker]['close'].iloc[i:i+timeWindow].to_numpy().reshape(timeWindow, -1))\n",
    "        data_scaled = scaler.transform(ohlcv[ticker]['close'].iloc[i:i+timeWindow].to_numpy().reshape(timeWindow, -1))\n",
    "        phi = np.arccos(data_scaled)\n",
    "        gram = np.vectorize(lambda x,y: np.cos(x + y))(*np.meshgrid(phi, phi, sparse=True))\n",
    "\n",
    "        if saveToFile == 1:\n",
    "\n",
    "            fileName = 'gramian_' + ticker + '_' + str(i).zfill(3)\n",
    "\n",
    "            # If the next close price is higher than the last one in the window, it should be interpreted as a buy signal.\n",
    "            if ohlcv[ticker]['close'].iloc[i+timeWindow] < ohlcv[ticker]['close'].iloc[i+timeWindow+1]:\n",
    "                print('Buy signal for ' + ticker + '. i = ' + str(i) + '/' + str(len(ohlcv[ticker]) - 1 - timeWindow - 1), end=\"\\r\")\n",
    "                np.save('./trainingData_Gramian/buy/' + fileName + '.npy', gram)\n",
    "            else:\n",
    "                print('Sell signal for ' + ticker + '. i = ' + str(i) + '/' + str(len(ohlcv[ticker]) - 1 - timeWindow - 1), end=\"\\r\")\n",
    "                np.save('./trainingData_Gramian/sell/' + fileName + '.npy', gram)\n",
    "        \n",
    "        else:\n",
    "\n",
    "            plt.figure(figsize=(15,6), num=1)\n",
    "\n",
    "            # Plot the time series\n",
    "            plt.subplot(1, 2, 1)\n",
    "            plt.plot(data_scaled)\n",
    "            plt.gcf().autofmt_xdate()\n",
    "            plt.title('Scaled close price')\n",
    "\n",
    "            # Plot the gramian angular summation field\n",
    "            plt.subplot(1, 2, 2)\n",
    "            plt.imshow(gram)\n",
    "            plt.axis(False)\n",
    "            plt.title('Gramian angular summation field')\n",
    "\n",
    "            # Update the plot(s)\n",
    "            display.clear_output(wait=True)\n",
    "            plt.pause(0.05)\n",
    "        \n",
    "    print('\\n')"
   ]
  },
  {
   "cell_type": "markdown",
   "metadata": {},
   "source": [
    "### Check to see if the saved numpy arrays have been saved properly"
   ]
  },
  {
   "cell_type": "markdown",
   "metadata": {},
   "source": [
    "Note that the numpy arrays are saved as greyscale. If you wanted to save rgb, the data would occupy three times the space"
   ]
  },
  {
   "cell_type": "code",
   "execution_count": 7,
   "metadata": {},
   "outputs": [
    {
     "data": {
      "image/png": "[encoded data removed]",
      "text/plain": [
       "<Figure size 504x360 with 1 Axes>"
      ]
     },
     "metadata": {
      "needs_background": "light"
     },
     "output_type": "display_data"
    }
   ],
   "source": [
    "test = np.load('./trainingData_Gramian/buy/' + fileName + '.npy')  # Just grab the last one that was saved in ./buy\n",
    "plt.imshow(test)\n",
    "plt.axis(False)\n",
    "plt.show()  # Looks good."
   ]
  },
  {
   "cell_type": "markdown",
   "metadata": {},
   "source": [
    "Check if you want these fields to use overlapping data"
   ]
  },
  {
   "cell_type": "markdown",
   "metadata": {},
   "source": [
    "### Code for saving a figure to a file in the cwd"
   ]
  },
  {
   "cell_type": "code",
   "execution_count": 43,
   "metadata": {},
   "outputs": [],
   "source": [
    "'''Note that this way of saving a figure is very slow, and if implemented in a loop, \n",
    "the loops will slow down further with each iteration'''\n",
    "\n",
    "#fig1 = plt.gcf()\n",
    "#plt.imshow(gram)\n",
    "#plt.axis(False)\n",
    "#plt.draw()\n",
    "#plt.savefig('./trainingData_Gramian/test.png', dpi=5.5, frameon=False, bbox_inches='tight', pad_inches=0)\n",
    "\n",
    "# To save the data directly, rather than the figure in its entirety:\n",
    "#plt.imsave('test.png', data, cmap = plt.cm.gray)"
   ]
  }
 ],
 "metadata": {
  "kernelspec": {
   "display_name": "Python 3",
   "language": "python",
   "name": "python3"
  },
  "language_info": {
   "codemirror_mode": {
    "name": "ipython",
    "version": 3
   },
   "file_extension": ".py",
   "mimetype": "text/x-python",
   "name": "python",
   "nbconvert_exporter": "python",
   "pygments_lexer": "ipython3",
   "version": "3.7.3"
  }
 },
 "nbformat": 4,
 "nbformat_minor": 4
}
