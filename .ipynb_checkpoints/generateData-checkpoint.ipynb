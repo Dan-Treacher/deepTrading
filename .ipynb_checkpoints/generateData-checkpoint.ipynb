{
 "cells": [
  {
   "cell_type": "markdown",
   "metadata": {},
   "source": [
    "## This script will (hopefully) generate 2D training data from stock prices for a CNN"
   ]
  },
  {
   "cell_type": "markdown",
   "metadata": {},
   "source": [
    "### Import necessary libraries"
   ]
  },
  {
   "cell_type": "code",
   "execution_count": 2,
   "metadata": {},
   "outputs": [],
   "source": [
    "import numpy as np\n",
    "import matplotlib.pyplot as plt\n",
    "from sklearn.preprocessing import MinMaxScaler\n",
    "import alpaca_trade_api as tradeapi\n",
    "import pandas as pd\n",
    "\n",
    "# Set defaults for plotting\n",
    "from IPython import display\n",
    "%matplotlib inline\n",
    "plt.rcParams['font.size'] = 15\n",
    "plt.rcParams['figure.figsize'] = (7, 5)"
   ]
  },
  {
   "cell_type": "markdown",
   "metadata": {},
   "source": [
    "### Define function to produce the gramian angular fields"
   ]
  },
  {
   "cell_type": "code",
   "execution_count": 4,
   "metadata": {},
   "outputs": [],
   "source": [
    "def gramianAngularField(timeSeries, sumOrDifference='sum'):\n",
    "    ''' Inputs: \n",
    "            timeSeries is a possible pandas column representing the timeSeries you want to transform.\n",
    "            \n",
    "            sumOrDifference is a string denoting whether you want the gramian angular summation field or\n",
    "            the gramian angular difference field\n",
    "    '''\n",
    "    N = len(timeSeries)\n",
    "    \n",
    "    # If timeSeries is numpy, just reshape, if it's other (pandas dataframe) recast as numpy before reshaping\n",
    "    if type(timeSeries).__module__ == np.__name__:\n",
    "        data = timeSeries.reshape(N, -1)\n",
    "    else:\n",
    "        data = timeSeries.to_numpy().reshape(N, -1)\n",
    "        \n",
    "    # Scale and transform to polar\n",
    "    scaler = MinMaxScaler(feature_range=(-1,1))\n",
    "    scaler.fit(data)\n",
    "    data_scaled = scaler.transform(data)\n",
    "    phi = np.arccos(data_scaled)  # Remember we don't want to include the radius as this is a form of temporal bias\n",
    "    \n",
    "    # Calculate gram angular field in either summation or difference mode\n",
    "    if sumOrDifference in ['sum', 'Sum', '+']:\n",
    "        # 'Dot' product across all the transformed representations in this series\n",
    "        gram = np.vectorize(lambda x,y: np.cos(x + y))(*np.meshgrid(phi, phi, sparse=True))\n",
    "    else:\n",
    "        gram = np.vectorize(lambda x,y: np.sin(x + y))(*np.meshgrid(phi, phi, sparse=True))\n",
    "    # Note - plot the gram with plt.imshow(gram) to get it to look like it should\n",
    "    \n",
    "    return gram"
   ]
  },
  {
   "cell_type": "markdown",
   "metadata": {},
   "source": [
    "### Define constants"
   ]
  },
  {
   "cell_type": "code",
   "execution_count": 26,
   "metadata": {},
   "outputs": [],
   "source": [
    "key_dir = 'C:\\\\Users\\\\Dan\\\\Documents\\\\Python Scripts\\\\apiKeys\\\\'\n",
    "apiKey = open(key_dir + 'alpaca_apiKey.txt', 'r').read()\n",
    "secretKey = open(key_dir + 'alpaca_secretKey.txt', 'r').read()\n",
    "endPoint = 'https://paper-api.alpaca.markets'  # Specify this for demo account\n",
    "\n",
    "# Define the companies you want the data for\n",
    "tickers = ['AAPL', 'MSFT']\n",
    "\n",
    "# Define dates and time window\n",
    "startDate = '2020-01-01'\n",
    "endDate = '2020-05-28'\n",
    "timeWindow = 20\n",
    "\n",
    "# Connect to the API and pull the data\n",
    "api = tradeapi.REST(apiKey, secretKey, endPoint, api_version='v2')"
   ]
  },
  {
   "cell_type": "markdown",
   "metadata": {},
   "source": [
    "### Interface with the brokerage"
   ]
  },
  {
   "cell_type": "code",
   "execution_count": 5,
   "metadata": {},
   "outputs": [
    {
     "name": "stdout",
     "output_type": "stream",
     "text": [
      "Pulling ohlcv data for AAPL\n",
      "Pulling ohlcv data for MSFT\n"
     ]
    }
   ],
   "source": [
    "# Define the dictionary that will hold all the data for all the companies\n",
    "ohlcv = {}\n",
    "for ticker in tickers:\n",
    "    try:\n",
    "        # Pull the stock details for that ticker\n",
    "        ohlcv[ticker] = api.get_aggs(ticker, 1, 'day', startDate, endDate).df\n",
    "        # Calculate their daily return\n",
    "        ohlcv[ticker]['daily return'] = ohlcv[ticker]['close'].pct_change()\n",
    "        print('Pulling ohlcv data for {:s}'.format(ticker))\n",
    "    except:\n",
    "        # If nothing is found, throw error and continue\n",
    "        print('Error encountered pulling ohlcv data for {:s}'.format(ticker))"
   ]
  },
  {
   "cell_type": "markdown",
   "metadata": {},
   "source": [
    "### Loop over the data and for each time window extract a gramian angular field"
   ]
  },
  {
   "cell_type": "code",
   "execution_count": 47,
   "metadata": {},
   "outputs": [
    {
     "name": "stderr",
     "output_type": "stream",
     "text": [
      "C:\\ProgramData\\Anaconda3\\lib\\site-packages\\ipykernel_launcher.py:21: MatplotlibDeprecationWarning: \n",
      "The frameon kwarg was deprecated in Matplotlib 3.1 and will be removed in 3.3. Use facecolor instead.\n"
     ]
    },
    {
     "data": {
      "image/png": "[encoded data removed]",
      "text/plain": [
       "<Figure size 504x360 with 1 Axes>"
      ]
     },
     "metadata": {
      "needs_background": "light"
     },
     "output_type": "display_data"
    }
   ],
   "source": [
    "# 1 for save data, 0 for no saving, only plotting for inspection\n",
    "saveToFile = 1\n",
    "# 40 of these gram fields at windowSize=20 is about 200kb\n",
    "\n",
    "for i in range(2*timeWindow):\n",
    "    data = ohlcv['AAPL']['close'].iloc[i:i+timeWindow].to_numpy().reshape(timeWindow, -1)\n",
    "    scaler = MinMaxScaler(feature_range=(-1,1))\n",
    "    scaler.fit(data)\n",
    "    data_scaled = scaler.transform(data)\n",
    "    phi = np.arccos(data_scaled)\n",
    "    gram = np.vectorize(lambda x,y: np.cos(x + y))(*np.meshgrid(phi, phi, sparse=True))\n",
    "\n",
    "    if saveToFile == 1:\n",
    "        \n",
    "        fig1 = plt.gcf()\n",
    "        plt.imshow(gram)\n",
    "        plt.axis(False)\n",
    "        plt.draw()\n",
    "        display.clear_output(wait=True)\n",
    "        fileName = 'gramian_' + str(i)\n",
    "        plt.savefig('./trainingData_Gramian/' + fileName + '.png', dpi=100, frameon=False, bbox_inches='tight', pad_inches=0)\n",
    "        \n",
    "    else:\n",
    "            \n",
    "        plt.figure(figsize=(15,6), num=1)\n",
    "\n",
    "        # Plot the time series\n",
    "        plt.subplot(1, 2, 1)\n",
    "        plt.plot(data_scaled)\n",
    "        plt.gcf().autofmt_xdate()\n",
    "        plt.title('Scaled close price')\n",
    "\n",
    "        # Plot the gramian angular summation field\n",
    "        plt.subplot(1, 2, 2)\n",
    "        plt.imshow(gram)\n",
    "        plt.axis(False)\n",
    "        plt.title('Gramian angular summation field')\n",
    "\n",
    "        # Update the plot(s)\n",
    "        display.clear_output(wait=True)\n",
    "        plt.pause(0.5)"
   ]
  },
  {
   "cell_type": "markdown",
   "metadata": {},
   "source": [
    "Check if you want these fields to use overlapping data"
   ]
  },
  {
   "cell_type": "markdown",
   "metadata": {},
   "source": [
    "### Code for saving a figure to a file in the cwd"
   ]
  },
  {
   "cell_type": "code",
   "execution_count": 25,
   "metadata": {},
   "outputs": [],
   "source": [
    "#fig1 = plt.gcf()\n",
    "#plt.plot(ohlcv['AAPL']['close'])\n",
    "#plt.draw()\n",
    "#plt.savefig('./trainingData_Gramian/test.png', dpi=100)"
   ]
  }
 ],
 "metadata": {
  "kernelspec": {
   "display_name": "Python 3",
   "language": "python",
   "name": "python3"
  },
  "language_info": {
   "codemirror_mode": {
    "name": "ipython",
    "version": 3
   },
   "file_extension": ".py",
   "mimetype": "text/x-python",
   "name": "python",
   "nbconvert_exporter": "python",
   "pygments_lexer": "ipython3",
   "version": "3.7.3"
  }
 },
 "nbformat": 4,
 "nbformat_minor": 4
}
