{
 "cells": [
  {
   "cell_type": "markdown",
   "metadata": {},
   "source": [
    "## Import standard libraries"
   ]
  },
  {
   "cell_type": "code",
   "execution_count": 58,
   "metadata": {},
   "outputs": [],
   "source": [
    "import numpy as np\n",
    "import matplotlib.pyplot as plt\n",
    "from sklearn.preprocessing import MinMaxScaler\n",
    "import alpaca_trade_api as tradeapi\n",
    "import pandas as pd\n",
    "import os as os\n",
    "import tensorflow as tf\n",
    "from tensorflow import keras\n",
    "from tensorflow.keras import datasets, layers, models\n",
    "from sklearn.model_selection import train_test_split\n",
    "from sklearn.preprocessing import LabelEncoder\n",
    "\n",
    "# Set defaults for plotting\n",
    "from IPython import display\n",
    "%matplotlib inline\n",
    "plt.rcParams['font.size'] = 15\n",
    "plt.rcParams['figure.figsize'] = (7, 5)\n",
    "\n",
    "import warnings\n",
    "warnings.simplefilter('ignore')\n",
    "#warnings.filterwarnings(action='once') # 'ignore'"
   ]
  },
  {
   "cell_type": "markdown",
   "metadata": {},
   "source": [
    "## Import the data and split into training and test sets"
   ]
  },
  {
   "cell_type": "markdown",
   "metadata": {},
   "source": [
    "Given that each file in the imported data comprises a shapshot of the close price gramian at a fixed point in time, I'm not convinced I need to worry about maintaining the order of the files when splitting training and testing data. I think I can just scramble them up and pick them at random..."
   ]
  },
  {
   "cell_type": "code",
   "execution_count": 89,
   "metadata": {},
   "outputs": [],
   "source": [
    "# Define dates and time window\n",
    "timeWindow = 20  # Number of time periods that will comprise the gramian angular field\n",
    "timeIncrement = 'day'\n",
    "\n",
    "X = np.ndarray((6565, 20, 20, 1))  # arg1 has been preallocated based on info you don't have at this point\n",
    "for _, _, files in os.walk('./trainingData_Gramian/buy/'):\n",
    "    Nbuy = len(files)\n",
    "    for i, file in enumerate(files):\n",
    "        X[i,:,:,0] = np.load('./trainingData_Gramian/buy/' + file)\n",
    "\n",
    "for _, _, files in os.walk('./trainingData_Gramian/sell/'):\n",
    "    Nsell = len(files)\n",
    "    for i, file in enumerate(files):\n",
    "        X[Nbuy+i,:,:,0] = np.load('./trainingData_Gramian/sell/' + file)\n",
    "\n",
    "# These are NOT one hot encoded (The labels in the tFExample.ipynb weren't either).\n",
    "y = np.append(np.tile([0, 1], (Nbuy,1)), np.tile([1, 0], (Nsell,1)), axis=0)"
   ]
  },
  {
   "cell_type": "code",
   "execution_count": 91,
   "metadata": {},
   "outputs": [],
   "source": [
    "# Encode the buy and sell classifications into numerical form\n",
    "#encoder = LabelEncoder()\n",
    "#encoder.fit(y)\n",
    "#encoded_y = encoder.transform(y)\n",
    "#encoded_y.shape"
   ]
  },
  {
   "cell_type": "code",
   "execution_count": 103,
   "metadata": {},
   "outputs": [],
   "source": [
    "# Separate into test and training sets\n",
    "X_train, X_test, y_train, y_test = train_test_split(X, y, test_size=0.33, random_state=42)\n",
    "inputShape = (20, 20, 1)\n",
    "numberOfClasses = 2"
   ]
  },
  {
   "cell_type": "markdown",
   "metadata": {},
   "source": [
    "## Check data has been imported correctly"
   ]
  },
  {
   "cell_type": "code",
   "execution_count": 95,
   "metadata": {},
   "outputs": [
    {
     "data": {
      "image/png": "[encoded data removed]",
      "text/plain": [
       "<Figure size 504x360 with 2 Axes>"
      ]
     },
     "metadata": {
      "needs_background": "light"
     },
     "output_type": "display_data"
    }
   ],
   "source": [
    "fig, ax = plt.subplots(1,2)\n",
    "a = np.random.randint(100)\n",
    "ax[0].imshow(X_train[a,:,:,0])\n",
    "ax[0].set_title(y_train[a])\n",
    "b = np.random.randint(100)\n",
    "ax[1].imshow(X_test[b,:,:,0])\n",
    "ax[1].set_title(y_test[b])\n",
    "plt.show()"
   ]
  },
  {
   "cell_type": "markdown",
   "metadata": {},
   "source": [
    "## Define the CNN model following the TF example"
   ]
  },
  {
   "cell_type": "code",
   "execution_count": 127,
   "metadata": {},
   "outputs": [],
   "source": [
    "'''\n",
    "model = models.Sequential()\n",
    "model.add(layers.Conv2D(20, (3, 3), activation='relu', input_shape=inputShape))\n",
    "model.add(layers.MaxPooling2D((2, 2)))\n",
    "model.add(layers.Conv2D(64, (3, 3), activation='relu'))\n",
    "model.add(layers.MaxPooling2D((2, 2)))\n",
    "model.add(layers.Conv2D(64, (3, 3), activation='relu'))\n",
    "model.add(layers.Flatten())\n",
    "model.add(layers.Dense(64, activation='sigmoid'))  # 'relu'\n",
    "model.add(layers.Dense(1))  # Only have two classes to predict: Buy or sell ([0,1] or [1,0])\n",
    "\n",
    "'''\n",
    "# Need sigmoid activation for final layer because I have two classes\n",
    "model = models.Sequential()\n",
    "model.add(layers.Conv2D(32, kernel_size=(5, 5), strides=(1, 1),\n",
    "                 activation='relu',\n",
    "                 input_shape=inputShape))\n",
    "model.add(layers.MaxPooling2D(pool_size=(2, 2), strides=(2, 2)))\n",
    "model.add(layers.Conv2D(64, (5, 5), activation='relu'))\n",
    "model.add(layers.MaxPooling2D(pool_size=(2, 2)))\n",
    "model.add(layers.Flatten())\n",
    "model.add(layers.Dense(1000, activation='sigmoid'))\n",
    "model.add(layers.Dense(numberOfClasses, activation='sigmoid'))\n"
   ]
  },
  {
   "cell_type": "markdown",
   "metadata": {},
   "source": [
    "## Compile the model using the training data"
   ]
  },
  {
   "cell_type": "code",
   "execution_count": 128,
   "metadata": {},
   "outputs": [
    {
     "name": "stdout",
     "output_type": "stream",
     "text": [
      "Train on 4398 samples, validate on 2167 samples\n",
      "Epoch 1/10\n",
      "4398/4398 [==============================] - 3s 706us/sample - loss: 0.6960 - acc: 0.5314 - val_loss: 0.6885 - val_acc: 0.5542\n",
      "Epoch 2/10\n",
      "4398/4398 [==============================] - 3s 569us/sample - loss: 0.7002 - acc: 0.5080 - val_loss: 0.6964 - val_acc: 0.4458\n",
      "Epoch 3/10\n",
      "4398/4398 [==============================] - 3s 579us/sample - loss: 0.7019 - acc: 0.5139 - val_loss: 0.7638 - val_acc: 0.4458\n",
      "Epoch 4/10\n",
      "4398/4398 [==============================] - 3s 585us/sample - loss: 0.7033 - acc: 0.5184 - val_loss: 0.7176 - val_acc: 0.5542\n",
      "Epoch 5/10\n",
      "4398/4398 [==============================] - 3s 594us/sample - loss: 0.6976 - acc: 0.5175 - val_loss: 0.6979 - val_acc: 0.5542\n",
      "Epoch 6/10\n",
      "4398/4398 [==============================] - 3s 610us/sample - loss: 0.6993 - acc: 0.5257 - val_loss: 0.7028 - val_acc: 0.5542\n",
      "Epoch 7/10\n",
      "4398/4398 [==============================] - 3s 619us/sample - loss: 0.7037 - acc: 0.5061 - val_loss: 0.6970 - val_acc: 0.5542\n",
      "Epoch 8/10\n",
      "4398/4398 [==============================] - 3s 619us/sample - loss: 0.7041 - acc: 0.5216 - val_loss: 0.6873 - val_acc: 0.5542\n",
      "Epoch 9/10\n",
      "4398/4398 [==============================] - 3s 629us/sample - loss: 0.7010 - acc: 0.5089 - val_loss: 0.6874 - val_acc: 0.5542\n",
      "Epoch 10/10\n",
      "4398/4398 [==============================] - 3s 649us/sample - loss: 0.6993 - acc: 0.5125 - val_loss: 0.6877 - val_acc: 0.5542\n"
     ]
    }
   ],
   "source": [
    "# Specifics of the model evaluation\n",
    "\n",
    "# Possible optimisers: [.Adam, .categorical_crossentropy, .binary_crossentropy]\n",
    "model.compile(loss = keras.losses.binary_crossentropy,\n",
    "              optimizer = keras.optimizers.Adam(lr=0.001),\n",
    "              metrics = ['accuracy'])\n",
    "'''\n",
    "from_logits=True means y_pred is interpreted as a tensor of logit values. =False implies they're interpreted as probabilities\n",
    "'''\n",
    "\n",
    "history = model.fit(X_train, y_train, epochs=10, validation_data=(X_test, y_test))"
   ]
  },
  {
   "cell_type": "code",
   "execution_count": null,
   "metadata": {},
   "outputs": [],
   "source": [
    "'''\n",
    "Model compiles, but looks like junk on first inspection\n",
    "\n",
    "Should probably try some other optimisers: https://keras.io/api/optimizers/\n",
    "\n",
    "Optimiser | Notes\n",
    "Adam      | Accuracy hovers around 53%\n",
    "SDG       | Accuracy hovers around 53%\n",
    "\n",
    "Suspicion is that there's something off with the data. Training on the same batch over and over again or something\n",
    "Need to tweak arg1 of the final dense layer - initial script had too many output dimensions(?)\n",
    "Check structure of y - does it need to be encoded differently?\n",
    "'''"
   ]
  }
 ],
 "metadata": {
  "kernelspec": {
   "display_name": "Python 3",
   "language": "python",
   "name": "python3"
  },
  "language_info": {
   "codemirror_mode": {
    "name": "ipython",
    "version": 3
   },
   "file_extension": ".py",
   "mimetype": "text/x-python",
   "name": "python",
   "nbconvert_exporter": "python",
   "pygments_lexer": "ipython3",
   "version": "3.7.3"
  }
 },
 "nbformat": 4,
 "nbformat_minor": 4
}
