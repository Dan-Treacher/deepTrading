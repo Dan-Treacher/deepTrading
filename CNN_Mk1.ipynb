{
 "cells": [
  {
   "cell_type": "markdown",
   "metadata": {},
   "source": [
    "## Import standard libraries"
   ]
  },
  {
   "cell_type": "code",
   "execution_count": 15,
   "metadata": {},
   "outputs": [],
   "source": [
    "import numpy as np\n",
    "import matplotlib.pyplot as plt\n",
    "from sklearn.preprocessing import MinMaxScaler\n",
    "import alpaca_trade_api as tradeapi\n",
    "import pandas as pd\n",
    "import os as os\n",
    "import tensorflow as tf\n",
    "from tensorflow.keras import datasets, layers, models\n",
    "\n",
    "# Set defaults for plotting\n",
    "from IPython import display\n",
    "%matplotlib inline\n",
    "plt.rcParams['font.size'] = 15\n",
    "plt.rcParams['figure.figsize'] = (7, 5)\n",
    "\n",
    "import warnings\n",
    "warnings.simplefilter('ignore')\n",
    "#warnings.filterwarnings(action='once') # 'ignore'"
   ]
  },
  {
   "cell_type": "markdown",
   "metadata": {},
   "source": [
    "## Import the data"
   ]
  },
  {
   "cell_type": "code",
   "execution_count": 45,
   "metadata": {},
   "outputs": [],
   "source": [
    "# Define dates and time window\n",
    "startDate = '2019-05-01'\n",
    "endDate = '2020-05-28'\n",
    "timeWindow = 20  # Number of time periods that will comprise the gramian angular field\n",
    "timeIncrement = 'day'\n",
    "\n",
    "X = []\n",
    "for _, _, files in os.walk('./trainingData_Gramian/buy/'):\n",
    "    Nbuy = len(files)\n",
    "    for file in files:\n",
    "        X.append(np.load('./trainingData_Gramian/buy/' + file))\n",
    "\n",
    "for _, _, files in os.walk('./trainingData_Gramian/sell/'):\n",
    "    Nsell = len(files)\n",
    "    for file in files:\n",
    "        X.append(np.load('./trainingData_Gramian/sell/' + file))\n",
    "\n",
    "y = np.append(np.tile([1,0], (Nsell,1)), np.tile([0,1], (Nbuy,1)), axis=0)"
   ]
  },
  {
   "cell_type": "markdown",
   "metadata": {},
   "source": [
    "## Separate data into test and train"
   ]
  },
  {
   "cell_type": "code",
   "execution_count": 54,
   "metadata": {},
   "outputs": [
    {
     "name": "stdout",
     "output_type": "stream",
     "text": [
      "[ True  True False  True  True  True False False  True False]\n"
     ]
    },
    {
     "data": {
      "text/plain": [
       "array([ True,  True, False,  True,  True,  True, False, False,  True,\n",
       "       False,  True,  True, False, False,  True, False,  True,  True,\n",
       "        True, False, False, False, False, False, False, False, False,\n",
       "       False,  True,  True, False,  True,  True, False,  True,  True,\n",
       "        True, False,  True,  True,  True, False,  True,  True,  True,\n",
       "        True, False,  True,  True, False, False,  True,  True, False,\n",
       "       False, False,  True,  True, False,  True,  True,  True, False,\n",
       "        True, False,  True,  True,  True,  True,  True,  True, False,\n",
       "        True,  True,  True,  True,  True,  True,  True, False, False,\n",
       "        True, False,  True, False, False, False, False,  True,  True,\n",
       "        True,  True, False, False,  True, False,  True,  True,  True,\n",
       "        True, False,  True,  True, False, False,  True,  True,  True,\n",
       "        True,  True, False, False,  True,  True,  True,  True, False,\n",
       "       False, False,  True, False,  True,  True,  True, False,  True,\n",
       "        True,  True,  True, False, False,  True,  True,  True,  True,\n",
       "        True,  True,  True,  True, False, False, False,  True,  True,\n",
       "       False,  True,  True,  True, False,  True, False,  True,  True,\n",
       "       False, False,  True,  True, False,  True, False, False,  True,\n",
       "        True, False,  True,  True,  True, False, False,  True, False,\n",
       "       False,  True,  True,  True,  True, False, False, False, False,\n",
       "        True,  True,  True, False,  True,  True, False, False, False,\n",
       "       False,  True,  True,  True,  True, False,  True, False,  True,\n",
       "        True,  True,  True,  True, False,  True,  True, False,  True,\n",
       "        True,  True, False, False, False,  True, False,  True, False,\n",
       "        True,  True,  True,  True, False,  True,  True,  True,  True,\n",
       "        True,  True,  True,  True,  True,  True,  True,  True, False,\n",
       "        True,  True, False, False,  True,  True,  True, False,  True,\n",
       "       False,  True,  True,  True,  True,  True,  True,  True,  True,\n",
       "        True,  True, False, False,  True,  True, False,  True,  True,\n",
       "       False, False,  True, False,  True, False, False,  True,  True,\n",
       "        True, False,  True,  True,  True, False, False,  True, False,\n",
       "       False,  True, False,  True,  True,  True, False, False, False,\n",
       "        True,  True, False,  True,  True, False,  True,  True, False,\n",
       "       False, False, False,  True, False,  True,  True, False,  True,\n",
       "       False, False,  True,  True, False, False, False, False,  True,\n",
       "       False,  True, False, False,  True, False, False,  True,  True,\n",
       "       False,  True, False, False,  True,  True,  True,  True,  True,\n",
       "        True,  True,  True, False,  True, False,  True, False, False,\n",
       "        True,  True,  True, False, False, False,  True,  True,  True,\n",
       "        True, False,  True, False, False, False, False,  True,  True,\n",
       "        True, False, False,  True,  True,  True,  True, False,  True,\n",
       "        True, False, False,  True,  True,  True, False,  True,  True,\n",
       "       False, False,  True,  True,  True,  True, False,  True,  True,\n",
       "        True,  True,  True,  True, False, False, False, False,  True,\n",
       "       False,  True,  True,  True,  True,  True, False, False,  True,\n",
       "        True, False, False,  True,  True, False, False,  True,  True,\n",
       "       False, False, False, False,  True, False, False,  True, False,\n",
       "        True,  True,  True,  True, False, False,  True,  True, False,\n",
       "       False,  True,  True,  True,  True,  True, False,  True, False,\n",
       "        True,  True,  True,  True,  True, False, False,  True,  True,\n",
       "        True, False,  True, False,  True,  True, False, False,  True,\n",
       "        True, False,  True, False,  True, False, False,  True,  True,\n",
       "       False, False, False,  True, False, False,  True,  True, False,\n",
       "        True, False, False,  True,  True, False, False, False,  True,\n",
       "        True,  True,  True,  True, False, False,  True,  True,  True,\n",
       "       False,  True,  True,  True,  True])"
      ]
     },
     "execution_count": 54,
     "metadata": {},
     "output_type": "execute_result"
    }
   ],
   "source": [
    "trainingData = np.zeros(len(X), dtype=int)\n",
    "trainingData[:int(0.6*len(X))] = 1  # 60% of the data will be training (~trainingData will be the testing data)\n",
    "np.random.shuffle(trainingData)\n",
    "trainingData = trainingData.astype(bool)\n",
    "print(trainingData[:10])\n",
    "\n",
    "X[trainingData]  # Won't work bc its a list"
   ]
  },
  {
   "cell_type": "markdown",
   "metadata": {},
   "source": [
    "## Define the CNN model following the TF example"
   ]
  },
  {
   "cell_type": "code",
   "execution_count": null,
   "metadata": {},
   "outputs": [],
   "source": [
    "model = models.Sequential()\n",
    "model.add(layers.Conv2D(20, (3, 3), activation='relu', input_shape=(20, 20, 1)))  # arg2 is the kernel size\n",
    "model.add(layers.MaxPooling2D((2, 2)))\n",
    "model.add(layers.Conv2D(64, (3, 3), activation='relu'))\n",
    "model.add(layers.MaxPooling2D((2, 2)))\n",
    "model.add(layers.Conv2D(64, (3, 3), activation='relu'))\n",
    "model.add(layers.Flatten())\n",
    "model.add(layers.Dense(64, activation='relu'))\n",
    "model.add(layers.Dense(2))  # Only have two classes to predict: Buy or sell ([0,1] or [1,0])"
   ]
  },
  {
   "cell_type": "markdown",
   "metadata": {},
   "source": [
    "## Compile the model using the training data"
   ]
  },
  {
   "cell_type": "code",
   "execution_count": null,
   "metadata": {},
   "outputs": [],
   "source": [
    "model.compile(optimizer='adam',\n",
    "              loss=tf.keras.losses.SparseCategoricalCrossentropy(from_logits=True),\n",
    "              metrics=['accuracy'])\n",
    "\n",
    "history = model.fit(train_images, train_labels, epochs=10, validation_data=(test_images, test_labels))"
   ]
  }
 ],
 "metadata": {
  "kernelspec": {
   "display_name": "Python 3",
   "language": "python",
   "name": "python3"
  },
  "language_info": {
   "codemirror_mode": {
    "name": "ipython",
    "version": 3
   },
   "file_extension": ".py",
   "mimetype": "text/x-python",
   "name": "python",
   "nbconvert_exporter": "python",
   "pygments_lexer": "ipython3",
   "version": "3.7.3"
  }
 },
 "nbformat": 4,
 "nbformat_minor": 4
}
