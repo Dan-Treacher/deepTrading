{
 "cells": [
  {
   "cell_type": "markdown",
   "metadata": {},
   "source": [
    "## Import standard libraries"
   ]
  },
  {
   "cell_type": "code",
   "execution_count": 1,
   "metadata": {},
   "outputs": [
    {
     "name": "stderr",
     "output_type": "stream",
     "text": [
      "C:\\ProgramData\\Anaconda3\\lib\\site-packages\\tensorflow\\python\\framework\\dtypes.py:516: FutureWarning: Passing (type, 1) or '1type' as a synonym of type is deprecated; in a future version of numpy, it will be understood as (type, (1,)) / '(1,)type'.\n",
      "  _np_qint8 = np.dtype([(\"qint8\", np.int8, 1)])\n",
      "C:\\ProgramData\\Anaconda3\\lib\\site-packages\\tensorflow\\python\\framework\\dtypes.py:517: FutureWarning: Passing (type, 1) or '1type' as a synonym of type is deprecated; in a future version of numpy, it will be understood as (type, (1,)) / '(1,)type'.\n",
      "  _np_quint8 = np.dtype([(\"quint8\", np.uint8, 1)])\n",
      "C:\\ProgramData\\Anaconda3\\lib\\site-packages\\tensorflow\\python\\framework\\dtypes.py:518: FutureWarning: Passing (type, 1) or '1type' as a synonym of type is deprecated; in a future version of numpy, it will be understood as (type, (1,)) / '(1,)type'.\n",
      "  _np_qint16 = np.dtype([(\"qint16\", np.int16, 1)])\n",
      "C:\\ProgramData\\Anaconda3\\lib\\site-packages\\tensorflow\\python\\framework\\dtypes.py:519: FutureWarning: Passing (type, 1) or '1type' as a synonym of type is deprecated; in a future version of numpy, it will be understood as (type, (1,)) / '(1,)type'.\n",
      "  _np_quint16 = np.dtype([(\"quint16\", np.uint16, 1)])\n",
      "C:\\ProgramData\\Anaconda3\\lib\\site-packages\\tensorflow\\python\\framework\\dtypes.py:520: FutureWarning: Passing (type, 1) or '1type' as a synonym of type is deprecated; in a future version of numpy, it will be understood as (type, (1,)) / '(1,)type'.\n",
      "  _np_qint32 = np.dtype([(\"qint32\", np.int32, 1)])\n",
      "C:\\ProgramData\\Anaconda3\\lib\\site-packages\\tensorflow\\python\\framework\\dtypes.py:525: FutureWarning: Passing (type, 1) or '1type' as a synonym of type is deprecated; in a future version of numpy, it will be understood as (type, (1,)) / '(1,)type'.\n",
      "  np_resource = np.dtype([(\"resource\", np.ubyte, 1)])\n",
      "C:\\ProgramData\\Anaconda3\\lib\\site-packages\\tensorboard\\compat\\tensorflow_stub\\dtypes.py:541: FutureWarning: Passing (type, 1) or '1type' as a synonym of type is deprecated; in a future version of numpy, it will be understood as (type, (1,)) / '(1,)type'.\n",
      "  _np_qint8 = np.dtype([(\"qint8\", np.int8, 1)])\n",
      "C:\\ProgramData\\Anaconda3\\lib\\site-packages\\tensorboard\\compat\\tensorflow_stub\\dtypes.py:542: FutureWarning: Passing (type, 1) or '1type' as a synonym of type is deprecated; in a future version of numpy, it will be understood as (type, (1,)) / '(1,)type'.\n",
      "  _np_quint8 = np.dtype([(\"quint8\", np.uint8, 1)])\n",
      "C:\\ProgramData\\Anaconda3\\lib\\site-packages\\tensorboard\\compat\\tensorflow_stub\\dtypes.py:543: FutureWarning: Passing (type, 1) or '1type' as a synonym of type is deprecated; in a future version of numpy, it will be understood as (type, (1,)) / '(1,)type'.\n",
      "  _np_qint16 = np.dtype([(\"qint16\", np.int16, 1)])\n",
      "C:\\ProgramData\\Anaconda3\\lib\\site-packages\\tensorboard\\compat\\tensorflow_stub\\dtypes.py:544: FutureWarning: Passing (type, 1) or '1type' as a synonym of type is deprecated; in a future version of numpy, it will be understood as (type, (1,)) / '(1,)type'.\n",
      "  _np_quint16 = np.dtype([(\"quint16\", np.uint16, 1)])\n",
      "C:\\ProgramData\\Anaconda3\\lib\\site-packages\\tensorboard\\compat\\tensorflow_stub\\dtypes.py:545: FutureWarning: Passing (type, 1) or '1type' as a synonym of type is deprecated; in a future version of numpy, it will be understood as (type, (1,)) / '(1,)type'.\n",
      "  _np_qint32 = np.dtype([(\"qint32\", np.int32, 1)])\n",
      "C:\\ProgramData\\Anaconda3\\lib\\site-packages\\tensorboard\\compat\\tensorflow_stub\\dtypes.py:550: FutureWarning: Passing (type, 1) or '1type' as a synonym of type is deprecated; in a future version of numpy, it will be understood as (type, (1,)) / '(1,)type'.\n",
      "  np_resource = np.dtype([(\"resource\", np.ubyte, 1)])\n"
     ]
    }
   ],
   "source": [
    "import numpy as np\n",
    "import matplotlib.pyplot as plt\n",
    "from sklearn.preprocessing import MinMaxScaler\n",
    "import alpaca_trade_api as tradeapi\n",
    "import pandas as pd\n",
    "import os as os\n",
    "import tensorflow as tf\n",
    "from tensorflow.keras import datasets, layers, models\n",
    "from sklearn.model_selection import train_test_split\n",
    "\n",
    "# Set defaults for plotting\n",
    "from IPython import display\n",
    "%matplotlib inline\n",
    "plt.rcParams['font.size'] = 15\n",
    "plt.rcParams['figure.figsize'] = (7, 5)\n",
    "\n",
    "import warnings\n",
    "warnings.simplefilter('ignore')\n",
    "#warnings.filterwarnings(action='once') # 'ignore'"
   ]
  },
  {
   "cell_type": "markdown",
   "metadata": {},
   "source": [
    "## Import the data and split into training and test sets"
   ]
  },
  {
   "cell_type": "markdown",
   "metadata": {},
   "source": [
    "Given that each file in the imported data comprises a shapshot of the close price gramian at a fixed point in time, I'm not convinced I need to worry about maintaining the order of the files when splitting training and testing data. I think I can just scramble them up and pick them at random..."
   ]
  },
  {
   "cell_type": "code",
   "execution_count": 13,
   "metadata": {},
   "outputs": [],
   "source": [
    "# Define dates and time window\n",
    "timeWindow = 20  # Number of time periods that will comprise the gramian angular field\n",
    "timeIncrement = 'day'\n",
    "\n",
    "X = np.ndarray((6565, 20, 20, 1))  # arg1 has been preallocated based on info you don't have at this point\n",
    "for _, _, files in os.walk('./trainingData_Gramian/buy/'):\n",
    "    Nbuy = len(files)\n",
    "    for i, file in enumerate(files):\n",
    "        X[i,:,:,0] = np.load('./trainingData_Gramian/buy/' + file)\n",
    "        #X.append(np.load('./trainingData_Gramian/buy/' + file))#.reshape([-1, timeWindow, timeWindow, 1]))\n",
    "\n",
    "for _, _, files in os.walk('./trainingData_Gramian/sell/'):\n",
    "    Nsell = len(files)\n",
    "    for i, file in enumerate(files):\n",
    "        X[Nbuy+i,:,:,0] = np.load('./trainingData_Gramian/sell/' + file)\n",
    "        #X.append(np.load('./trainingData_Gramian/sell/' + file))#.reshape([-1, timeWindow, timeWindow, 1]))\n",
    "\n",
    "# These are not one hot encoded.\n",
    "y = np.append(np.tile(1, (Nsell,1)), np.tile(0, (Nbuy,1)), axis=0)\n",
    "\n",
    "# Separate into test and training sets\n",
    "X_train, X_test, y_train, y_test = train_test_split(X, y, test_size=0.33, random_state=42)"
   ]
  },
  {
   "cell_type": "markdown",
   "metadata": {},
   "source": [
    "## Define the CNN model following the TF example"
   ]
  },
  {
   "cell_type": "code",
   "execution_count": 14,
   "metadata": {},
   "outputs": [
    {
     "name": "stdout",
     "output_type": "stream",
     "text": [
      "WARNING:tensorflow:From C:\\ProgramData\\Anaconda3\\lib\\site-packages\\tensorflow\\python\\ops\\init_ops.py:1251: calling VarianceScaling.__init__ (from tensorflow.python.ops.init_ops) with dtype is deprecated and will be removed in a future version.\n",
      "Instructions for updating:\n",
      "Call initializer instance with the dtype argument instead of passing it to the constructor\n"
     ]
    }
   ],
   "source": [
    "model = models.Sequential()\n",
    "model.add(layers.Conv2D(20, (3, 3), activation='relu', input_shape=(20, 20, 1)))\n",
    "model.add(layers.MaxPooling2D((2, 2)))\n",
    "model.add(layers.Conv2D(64, (3, 3), activation='relu'))\n",
    "model.add(layers.MaxPooling2D((2, 2)))\n",
    "model.add(layers.Conv2D(64, (3, 3), activation='relu'))\n",
    "model.add(layers.Flatten())\n",
    "model.add(layers.Dense(64, activation='relu'))\n",
    "model.add(layers.Dense(2))  # Only have two classes to predict: Buy or sell ([0,1] or [1,0])"
   ]
  },
  {
   "cell_type": "markdown",
   "metadata": {},
   "source": [
    "## Compile the model using the training data"
   ]
  },
  {
   "cell_type": "code",
   "execution_count": 15,
   "metadata": {},
   "outputs": [
    {
     "name": "stdout",
     "output_type": "stream",
     "text": [
      "Train on 4398 samples, validate on 2167 samples\n",
      "Epoch 1/10\n",
      "4398/4398 [==============================] - 3s 703us/sample - loss: 0.6895 - acc: 0.5462 - val_loss: 0.6907 - val_acc: 0.5376\n",
      "Epoch 2/10\n",
      "4398/4398 [==============================] - 3s 580us/sample - loss: 0.6886 - acc: 0.5493 - val_loss: 0.6903 - val_acc: 0.5376\n",
      "Epoch 3/10\n",
      "4398/4398 [==============================] - 3s 637us/sample - loss: 0.6889 - acc: 0.5493 - val_loss: 0.6906 - val_acc: 0.5376\n",
      "Epoch 4/10\n",
      "4398/4398 [==============================] - 3s 603us/sample - loss: 0.6884 - acc: 0.5493 - val_loss: 0.6919 - val_acc: 0.5376\n",
      "Epoch 5/10\n",
      "4398/4398 [==============================] - 3s 619us/sample - loss: 0.6885 - acc: 0.5493 - val_loss: 0.6904 - val_acc: 0.5376\n",
      "Epoch 6/10\n",
      "4398/4398 [==============================] - 3s 584us/sample - loss: 0.6888 - acc: 0.5493 - val_loss: 0.6906 - val_acc: 0.5376\n",
      "Epoch 7/10\n",
      "4398/4398 [==============================] - 3s 574us/sample - loss: 0.6885 - acc: 0.5493 - val_loss: 0.6912 - val_acc: 0.5376\n",
      "Epoch 8/10\n",
      "4398/4398 [==============================] - 3s 575us/sample - loss: 0.6886 - acc: 0.5493 - val_loss: 0.6904 - val_acc: 0.5376\n",
      "Epoch 9/10\n",
      "4398/4398 [==============================] - 3s 583us/sample - loss: 0.6883 - acc: 0.5493 - val_loss: 0.6918 - val_acc: 0.5376\n",
      "Epoch 10/10\n",
      "4398/4398 [==============================] - 3s 630us/sample - loss: 0.6885 - acc: 0.5493 - val_loss: 0.6905 - val_acc: 0.5376\n"
     ]
    }
   ],
   "source": [
    "model.compile(optimizer='adam',\n",
    "              loss=tf.keras.losses.SparseCategoricalCrossentropy(from_logits=True),\n",
    "              metrics=['accuracy'])\n",
    "\n",
    "history = model.fit(X_train, y_train, epochs=10, validation_data=(X_test, y_test))"
   ]
  },
  {
   "cell_type": "code",
   "execution_count": null,
   "metadata": {},
   "outputs": [],
   "source": [
    "'''Model compiles, but looks like junk on first inspection'''"
   ]
  }
 ],
 "metadata": {
  "kernelspec": {
   "display_name": "Python 3",
   "language": "python",
   "name": "python3"
  },
  "language_info": {
   "codemirror_mode": {
    "name": "ipython",
    "version": 3
   },
   "file_extension": ".py",
   "mimetype": "text/x-python",
   "name": "python",
   "nbconvert_exporter": "python",
   "pygments_lexer": "ipython3",
   "version": "3.7.3"
  }
 },
 "nbformat": 4,
 "nbformat_minor": 4
}
